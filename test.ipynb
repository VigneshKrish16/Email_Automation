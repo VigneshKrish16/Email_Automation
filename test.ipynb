{
 "cells": [
  {
   "cell_type": "code",
   "execution_count": 1,
   "metadata": {},
   "outputs": [
    {
     "name": "stdout",
     "output_type": "stream",
     "text": [
      "|-- .vscode\n",
      "    |-- launch.json\n",
      "|-- app.py\n",
      "|-- flask_session\n",
      "    |-- 024900dbe6eb9b3b830dc6fb7b1b08eb\n",
      "    |-- 05824db0df49becc12e00beec46c87db\n",
      "    |-- 1d2b062228db9b317a3a504aca6374da\n",
      "    |-- 2029240f6d1128be89ddc32729463129\n",
      "    |-- 87a4d870650905b657ca506ae99e7786\n",
      "    |-- 8fd7d8340d171895105c361d31b91f79\n",
      "    |-- aa3cc1ba27ea88ff644c51d3ef25b144\n",
      "|-- index.html\n",
      "|-- outlook.ipynb\n",
      "|-- requirements.txt\n",
      "|-- services\n",
      "    |-- email_fetcher.py\n",
      "    |-- email_sender.py\n",
      "    |-- response_generator.py\n",
      "    |-- response_predictor.py\n",
      "    |-- __init__.py\n",
      "    |-- __pycache__\n",
      "        |-- email_fetcher.cpython-310.pyc\n",
      "        |-- email_sender.cpython-310.pyc\n",
      "        |-- response_generator.cpython-310.pyc\n",
      "        |-- response_predictor.cpython-310.pyc\n",
      "        |-- __init__.cpython-310.pyc\n",
      "|-- static\n",
      "    |-- css\n",
      "        |-- styles.css\n",
      "    |-- email.jpg\n",
      "    |-- img1.png\n",
      "    |-- js\n",
      "        |-- main.js\n",
      "|-- templates\n",
      "    |-- index.html\n",
      "|-- test.ipynb\n",
      "|-- __init__.py\n"
     ]
    }
   ],
   "source": [
    "import os\n",
    "\n",
    "def get_directory_structure(root_dir, indent=0, ignore_files=[\".env\"], ignore_dirs=[\"env\"]):\n",
    "    try:\n",
    "        for item in os.listdir(root_dir):\n",
    "            path = os.path.join(root_dir, item)\n",
    "\n",
    "            # Skip ignored files and directories\n",
    "            if item in ignore_files or item in ignore_dirs:\n",
    "                continue\n",
    "\n",
    "            print(\" \" * indent + \"|-- \" + item)  # Indentation for hierarchy\n",
    "\n",
    "            if os.path.isdir(path):\n",
    "                get_directory_structure(path, indent + 4, ignore_files, ignore_dirs)  # Recursively call for subfolders\n",
    "    except PermissionError:\n",
    "        print(\" \" * indent + \"|-- [ACCESS DENIED]\")  # Handle permission errors\n",
    "\n",
    "# Corrected path\n",
    "root_directory = r\"D:\\email-final\"  # Use r\"\" to avoid escape issues\n",
    "get_directory_structure(root_directory)\n"
   ]
  },
  {
   "cell_type": "code",
   "execution_count": 6,
   "metadata": {},
   "outputs": [
    {
     "name": "stdout",
     "output_type": "stream",
     "text": [
      "09d37be0168ee6a310dbd1e3a2490e3b\n"
     ]
    }
   ],
   "source": [
    "import secrets\n",
    "secret_key = secrets.token_hex(16)  # This generates a 32-character random string\n",
    "print(secret_key)"
   ]
  },
  {
   "cell_type": "code",
   "execution_count": null,
   "metadata": {},
   "outputs": [],
   "source": []
  }
 ],
 "metadata": {
  "kernelspec": {
   "display_name": "env",
   "language": "python",
   "name": "python3"
  },
  "language_info": {
   "codemirror_mode": {
    "name": "ipython",
    "version": 3
   },
   "file_extension": ".py",
   "mimetype": "text/x-python",
   "name": "python",
   "nbconvert_exporter": "python",
   "pygments_lexer": "ipython3",
   "version": "3.10.8"
  }
 },
 "nbformat": 4,
 "nbformat_minor": 2
}
